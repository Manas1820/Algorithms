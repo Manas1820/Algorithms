{
  "nbformat": 4,
  "nbformat_minor": 0,
  "metadata": {
    "colab": {
      "name": "week4.ipynb",
      "provenance": [],
      "authorship_tag": "ABX9TyPc+HkGQDcNhi5G7ZzS+s4H",
      "include_colab_link": true
    },
    "kernelspec": {
      "name": "python3",
      "display_name": "Python 3"
    },
    "language_info": {
      "name": "python"
    }
  },
  "cells": [
    {
      "cell_type": "markdown",
      "metadata": {
        "id": "view-in-github",
        "colab_type": "text"
      },
      "source": [
        "<a href=\"https://colab.research.google.com/github/Manas1820/Algorithms/blob/master/week4.ipynb\" target=\"_parent\"><img src=\"https://colab.research.google.com/assets/colab-badge.svg\" alt=\"Open In Colab\"/></a>"
      ]
    },
    {
      "cell_type": "markdown",
      "metadata": {
        "id": "M8-wlqR5Bvzp"
      },
      "source": [
        "# **Digital Assignment 4**\n",
        "\n",
        "```\n",
        "Name  - Manas Gupta\n",
        "Regno - 19BBS0121\n",
        "```\n",
        "\n",
        "\n"
      ]
    },
    {
      "cell_type": "markdown",
      "metadata": {
        "id": "8ity5byRktka"
      },
      "source": [
        "## **Greedy Algorithm for the Fractional Knapsack Problem**"
      ]
    },
    {
      "cell_type": "code",
      "metadata": {
        "id": "_TuFv1Y69bxF"
      },
      "source": [
        "def knapsack(values,weights,capacity):\n",
        "    n = len(values)\n",
        "    def ratio(i) : return values[i]/weights[i]\n",
        "    items = sorted(range(n),key=ratio,reverse = True)\n",
        "    sel, value,weight = [],0,0\n",
        "    for i in items:\n",
        "        if weight +weights[i] <= capacity:\n",
        "            sel += [i]\n",
        "            weight += weights[i]\n",
        "            value += values [i]\n",
        "        else:\n",
        "          value += values [i] * (capacity/weights[i])\n",
        "          break\n",
        "    return value"
      ],
      "execution_count": 20,
      "outputs": []
    },
    {
      "cell_type": "code",
      "metadata": {
        "colab": {
          "base_uri": "https://localhost:8080/",
          "height": 0
        },
        "id": "JHIpI-1J927J",
        "outputId": "89cdb17a-3ade-463c-faa7-525835b10d8c"
      },
      "source": [
        "knapsack([30,20,100,90,160],[5,10,20,30,40],60)"
      ],
      "execution_count": 21,
      "outputs": [
        {
          "output_type": "execute_result",
          "data": {
            "text/plain": [
              "370.0"
            ]
          },
          "metadata": {},
          "execution_count": 21
        }
      ]
    },
    {
      "cell_type": "markdown",
      "metadata": {
        "id": "KDd-ZKIgBQxG"
      },
      "source": [
        "## **Branch And Bound for Traveling Salesman Problem**\n"
      ]
    },
    {
      "cell_type": "code",
      "metadata": {
        "id": "W2bM2eV0AM67",
        "colab": {
          "base_uri": "https://localhost:8080/",
          "height": 0
        },
        "outputId": "fa02360d-a8a9-4dfe-df14-7d4462c8e726"
      },
      "source": [
        "import math\n",
        "maxsize = float('inf')\n",
        "\n",
        "def copyToFinal(current_path):\n",
        "\tfinal_path[:N + 1] = current_path[:]\n",
        "\tfinal_path[N] = current_path[0]\n",
        "\n",
        "def firstMin(adj, i):\n",
        "\tmin = maxsize\n",
        "\tfor k in range(N):\n",
        "\t\tif adj[i][k] < min and i != k:\n",
        "\t\t\tmin = adj[i][k]\n",
        "\n",
        "\treturn min\n",
        "\n",
        "def secondMin(adj, i):\n",
        "\tfirst, second = maxsize, maxsize\n",
        "\tfor j in range(N):\n",
        "\t\tif i == j:\n",
        "\t\t\tcontinue\n",
        "\t\tif adj[i][j] <= first:\n",
        "\t\t\tsecond = first\n",
        "\t\t\tfirst = adj[i][j]\n",
        "\n",
        "\t\telif(adj[i][j] <= second and\n",
        "\t\t\tadj[i][j] != first):\n",
        "\t\t\tsecond = adj[i][j]\n",
        "\n",
        "\treturn second\n",
        "\n",
        "def TSP_rec(adj, curr_bound, curr_weight,\n",
        "\t\t\tlevel, current_path, visited):\n",
        "\tglobal final_res\n",
        "\t\n",
        "\tif level == N:\n",
        "\t\tif adj[current_path[level - 1]][current_path[0]] != 0:\n",
        "\t\t\tcurr_res = curr_weight + adj[current_path[level - 1]][current_path[0]]\n",
        "\t\t\tif curr_res < final_res:\n",
        "\t\t\t\tcopyToFinal(current_path)\n",
        "\t\t\t\tfinal_res = curr_res\n",
        "\t\treturn\n",
        "\n",
        "\tfor i in range(N):\n",
        "\n",
        "\t\tif (adj[current_path[level-1]][i] != 0 and\n",
        "\t\t\t\t\t\t\tvisited[i] == False):\n",
        "\t\t\ttemp = curr_bound\n",
        "\t\t\tcurr_weight += adj[current_path[level - 1]][i]\n",
        "\t\t\tif level == 1:\n",
        "\t\t\t\tcurr_bound -= ((firstMin(adj, current_path[level - 1]) +\n",
        "\t\t\t\t\t\t\t\tfirstMin(adj, i)) / 2)\n",
        "\t\t\telse:\n",
        "\t\t\t\tcurr_bound -= ((secondMin(adj, current_path[level - 1]) +\n",
        "\t\t\t\t\t\t\t\tfirstMin(adj, i)) / 2)\n",
        "\n",
        "\t\t\tif curr_bound + curr_weight < final_res:\n",
        "\t\t\t\tcurrent_path[level] = i\n",
        "\t\t\t\tvisited[i] = True\n",
        "\t\t\t\t\n",
        "\t\t\t\tTSP_rec(adj, curr_bound, curr_weight,\n",
        "\t\t\t\t\tlevel + 1, current_path, visited)\n",
        "\n",
        "\t\t\tcurr_weight -= adj[current_path[level - 1]][i]\n",
        "\t\t\tcurr_bound = temp\n",
        "\n",
        "\t\t\tvisited = [False] * len(visited)\n",
        "\t\t\tfor j in range(level):\n",
        "\t\t\t\tif current_path[j] != -1:\n",
        "\t\t\t\t\tvisited[current_path[j]] = True\n",
        "\n",
        "def TSP(adj):\n",
        "\tcurr_bound = 0\n",
        "\tcurrent_path = [-1] * (N + 1)\n",
        "\tvisited = [False] * N\n",
        "\tfor i in range(N):\n",
        "\t\tcurr_bound += (firstMin(adj, i) +\n",
        "\t\t\t\t\tsecondMin(adj, i))\n",
        "\n",
        "\tcurr_bound = math.ceil(curr_bound / 2)\n",
        "\tvisited[0] = True\n",
        "\tcurrent_path[0] = 0\n",
        "\tTSP_rec(adj, curr_bound, 0, 1, current_path, visited)\n",
        "\n",
        "\n",
        "adj = [[0, 10, 15, 20],\n",
        "\t[10, 0, 35, 25],\n",
        "\t[15, 35, 0, 30],\n",
        "\t[20, 25, 30, 0]]\n",
        "N = 4\n",
        "final_path = [None] * (N + 1)\n",
        "visited = [False] * N\n",
        "final_res = maxsize\n",
        "TSP(adj)\n",
        "print(\"Minimum cost :\", final_res)\n",
        "print(\"Path Taken : \", end = ' ')\n",
        "for i in range(N + 1):\n",
        "\tprint(final_path[i], end = ' ')\n"
      ],
      "execution_count": 19,
      "outputs": [
        {
          "output_type": "stream",
          "name": "stdout",
          "text": [
            "Minimum cost : 80\n",
            "Path Taken :  0 1 3 2 0 "
          ]
        }
      ]
    },
    {
      "cell_type": "markdown",
      "metadata": {
        "id": "UBheTR6A-Qco"
      },
      "source": [
        "## **Huffman using greedy**"
      ]
    },
    {
      "cell_type": "code",
      "metadata": {
        "colab": {
          "base_uri": "https://localhost:8080/",
          "height": 0
        },
        "id": "zm0a4RG6-Y64",
        "outputId": "8f11074f-8b4a-4df0-af81-6938bea7bab1"
      },
      "source": [
        "class node:\n",
        "  def __init__(self, freq, symbol, left=None, right=None):\n",
        "    self.freq = freq\n",
        "    self.symbol = symbol\n",
        "    self.left = left\n",
        "    self.right = right\n",
        "    self.huff = ''\n",
        "\n",
        "\n",
        "def printNodes(node, val=''):\n",
        "\tnewVal = val + str(node.huff)\n",
        "\tif(node.left):\n",
        "\t\tprintNodes(node.left, newVal)\n",
        "\tif(node.right):\n",
        "\t\tprintNodes(node.right, newVal)\n",
        "\tif(not node.left and not node.right):\n",
        "\t\tprint(f\"{node.symbol} -> {newVal}\")\n",
        "\n",
        "\n",
        "chars = ['a', 'b', 'c', 'd', 'e', 'f']\n",
        "freq = [ 5, 9, 12, 13, 16, 45]\n",
        "nodes = []\n",
        "\n",
        "for x in range(len(chars)):\n",
        "  t = node(freq[x],chars[x])\n",
        "  nodes.append(t)\n",
        "\n",
        "while len(nodes) > 1:\n",
        "\tnodes = sorted(nodes, key=lambda x: x.freq)\n",
        "\tleft = nodes[0]\n",
        "\tright = nodes[1]\n",
        "\tleft.huff = 0\n",
        "\tright.huff = 1\n",
        "\tnewNode = node(left.freq+right.freq, left.symbol+right.symbol, left, right)\n",
        "\tnodes.remove(left)\n",
        "\tnodes.remove(right)\n",
        "\tnodes.append(newNode)\n",
        "\n",
        "printNodes(nodes[0])"
      ],
      "execution_count": 18,
      "outputs": [
        {
          "output_type": "stream",
          "name": "stdout",
          "text": [
            "f -> 0\n",
            "c -> 100\n",
            "d -> 101\n",
            "a -> 1100\n",
            "b -> 1101\n",
            "e -> 111\n"
          ]
        }
      ]
    },
    {
      "cell_type": "markdown",
      "metadata": {
        "id": "1mARTYBeBswj"
      },
      "source": [
        "## **Job Sequencing Problem using greedy**"
      ]
    },
    {
      "cell_type": "code",
      "metadata": {
        "colab": {
          "base_uri": "https://localhost:8080/",
          "height": 0
        },
        "id": "bq79xdR_BsZ2",
        "outputId": "ac022039-b116-43b4-c890-f99436cae152"
      },
      "source": [
        "def JobScheduling(arr, t):\n",
        "    n = len(arr)\n",
        "    for i in range(n):\n",
        "        for j in range(n - 1 - i):\n",
        "            if arr[j][2] < arr[j + 1][2]:\n",
        "                arr[j], arr[j + 1] = arr[j + 1], arr[j]\n",
        "  \n",
        "    result = [False] * t\n",
        "    job = ['-1'] * t\n",
        "    for i in range(len(arr)):\n",
        "        for j in range(min(t - 1, arr[i][1] - 1), -1, -1):\n",
        "            if result[j] is False:\n",
        "                result[j] = True\n",
        "                job[j] = arr[i][0]\n",
        "                break\n",
        "    print(job)\n",
        "  \n",
        "  \n",
        "\n",
        "arr = [['a', 2, 100],  \n",
        "       ['b', 1, 19],\n",
        "       ['c', 2, 27],\n",
        "       ['d', 1, 25],\n",
        "       ['e', 3, 15]]\n",
        "  \n",
        "JobScheduling(arr, 3) "
      ],
      "execution_count": 17,
      "outputs": [
        {
          "output_type": "stream",
          "name": "stdout",
          "text": [
            "['c', 'a', 'e']\n"
          ]
        }
      ]
    }
  ]
}